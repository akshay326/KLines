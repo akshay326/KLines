{
 "cells": [
  {
   "cell_type": "code",
   "execution_count": null,
   "metadata": {},
   "outputs": [],
   "source": [
    "import numpy as np"
   ]
  },
  {
   "cell_type": "code",
   "execution_count": null,
   "metadata": {},
   "outputs": [],
   "source": [
    "N = 10**2\n",
    "d = 10\n",
    "inner_rank = N//2\n",
    "\n",
    "X = np.dot(np.random.randn(N, inner_rank), np.random.randn(inner_rank, d))\n",
    "MSE = (X ** 2).mean()\n",
    "print(f\"Mean squared element: {MSE}\")"
   ]
  },
  {
   "cell_type": "code",
   "execution_count": null,
   "metadata": {},
   "outputs": [],
   "source": [
    "X_incomplete = X.copy()\n",
    "# missing entries indicated with NaN\n",
    "for i in range(N):\n",
    "    X_incomplete[i, np.random.randint(d)] = np.nan\n",
    "    \n",
    "\n",
    "# X is the complete data matrix\n",
    "# X_incomplete has the same values as X except a subset have been replace with NaN"
   ]
  },
  {
   "cell_type": "markdown",
   "metadata": {},
   "source": [
    "## matrix completion using fancyimpute"
   ]
  },
  {
   "cell_type": "code",
   "execution_count": null,
   "metadata": {},
   "outputs": [],
   "source": [
    "# idea is to construct lines, find k-centers, find pts closest to \n",
    "# those k center for each line, find difference from original X"
   ]
  },
  {
   "cell_type": "code",
   "execution_count": null,
   "metadata": {
    "scrolled": false
   },
   "outputs": [],
   "source": [
    "from fancyimpute import KNN, NuclearNormMinimization, SoftImpute\n",
    "\n",
    "X_knn = KNN(k=d).fit_transform(X_incomplete)\n",
    "\n",
    "# Slow! Do not execute when n>300\n",
    "X_filled_nnm = NuclearNormMinimization().fit_transform(X_incomplete)\n",
    "\n",
    "X_softimpute = SoftImpute(max_iters=10*5, verbose=False).fit_transform(X_incomplete)\n",
    "\n",
    "# X_iterativeSVD = IterativeSVD(rank=d-1, max_iters=10*5, verbose=False).fit_transform(X_incomplete)\n",
    "\n",
    "# print mean squared error for the  imputation methods above\n",
    "\n",
    "nnm_mse = ((X_filled_nnm - X) ** 2).mean()\n",
    "print(\"Nuclear norm minimization MSE: %f\" % nnm_mse)\n",
    "\n",
    "softImpute_mse = ((X_softimpute - X) ** 2).mean()\n",
    "print(\"SoftImpute MSE: %f\" % softImpute_mse)\n",
    "\n",
    "# iterativeSVD_mse = ((X_iterativeSVD - X) ** 2).mean()\n",
    "# print(\"IterativeSVD MSE: %f\" % iterativeSVD_mse)\n",
    "\n",
    "knn_mse = ((X_knn - X) ** 2).mean()\n",
    "print(\"knnImpute MSE: %f\" % knn_mse)"
   ]
  },
  {
   "cell_type": "markdown",
   "metadata": {},
   "source": [
    "## setup coreset streamer"
   ]
  },
  {
   "cell_type": "code",
   "execution_count": null,
   "metadata": {},
   "outputs": [],
   "source": [
    "import sys\n",
    "sys.path.insert(1, \"./KLines\")\n",
    "\n",
    "import numpy as np\n",
    "import copy\n",
    "import math\n",
    "import matplotlib.pyplot as plt\n",
    "from matplotlib.pyplot import figure\n",
    "\n",
    "from klines import SetOfLines, SetOfPoints, CorsetForKMeansForLines, CoresetStreamer\n",
    "\n",
    "# assert(np.version.full_version == '1.16.5')  # later revisions hv slower array lookups\n",
    "\n",
    "displacements = np.nan_to_num(X_incomplete)\n",
    "\n",
    "spans = np.nan_to_num(X_incomplete)\n",
    "spans[spans==0] = 1\n",
    "spans[spans!=1] = 0\n",
    "\n",
    "L = SetOfLines(spans, displacements, np.ones(N), np.ones(N))\n",
    "\n",
    "class ParameterConfig:\n",
    "    def __init__(self):\n",
    "        pass\n",
    "    \n",
    "config = ParameterConfig()"
   ]
  },
  {
   "cell_type": "code",
   "execution_count": null,
   "metadata": {},
   "outputs": [],
   "source": [
    "## data\n",
    "k = 2*d\n",
    "m = 100  # coreset size ~ reduction ratio\n",
    "tau = 1e-2\n",
    "\n",
    "config.a_b_approx_minimum_number_of_lines = 100 # constant 100, line 2, algo 2 BI-CRITERIA\n",
    "\n",
    "config.sample_size_for_a_b_approx = int(m*1.05) # |S| >= m, line 3 of algo 2\n",
    "                                                # note: there'll be a O(|S|^2) cost while computing algo 1\n",
    "    \n",
    "config.farthest_to_centers_rate_in_a_b_approx = 4/11  # opp of 7/11, line 6, algo 2 BI-CRITERIA\n",
    "config.number_of_remains_multiply_factor = int(math.log(N))//k # this is `b` in algo 2, other paper, set as random here -  how to calculate it?\n",
    "config.closest_to_median_rate = (1-tau)/(2*k)  # refer line 4, algo 1, other paper\n",
    "\n",
    "config.median_sample_size = int(N*0.05)    # size of q_i, line 3, algo 2, other paper\n",
    "config.max_sensitivity_multiply_factor = 100  # for outliers in coresets\n",
    "\n",
    "config.number_of_remains = 20\n",
    "\n",
    "SAMPLE_SIZE = 50   "
   ]
  },
  {
   "cell_type": "code",
   "execution_count": null,
   "metadata": {},
   "outputs": [],
   "source": [
    "streamer = CoresetStreamer(SAMPLE_SIZE, k, config)\n",
    "coreset = streamer.stream(L)\n",
    "L1 = coreset[0]\n",
    "\n",
    "_, B, _ = CorsetForKMeansForLines(config).coreset(L1, k, int(L1.get_size()*0.6), True)\n",
    "\n",
    "X_klines = L.get_projected_centers(B)\n",
    "klines_mse = ((X - X_klines)**2).mean()\n",
    "\n",
    "print(f\"Klines MSE: {klines_mse}\")"
   ]
  },
  {
   "cell_type": "code",
   "execution_count": null,
   "metadata": {},
   "outputs": [],
   "source": [
    "for i in [knn_mse, nnm_mse, softImpute_mse, klines_mse]:\n",
    "    print(f\"{i/MSE}\")"
   ]
  },
  {
   "cell_type": "code",
   "execution_count": null,
   "metadata": {},
   "outputs": [],
   "source": []
  }
 ],
 "metadata": {
  "kernelspec": {
   "display_name": "Python 3",
   "language": "python",
   "name": "python3"
  },
  "language_info": {
   "codemirror_mode": {
    "name": "ipython",
    "version": 3
   },
   "file_extension": ".py",
   "mimetype": "text/x-python",
   "name": "python",
   "nbconvert_exporter": "python",
   "pygments_lexer": "ipython3",
   "version": "3.8.5"
  }
 },
 "nbformat": 4,
 "nbformat_minor": 4
}
